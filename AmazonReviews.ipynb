{
 "cells": [
  {
   "cell_type": "code",
   "execution_count": 8,
   "metadata": {
    "collapsed": true
   },
   "outputs": [],
   "source": [
    "import seaborn as sns\n",
    "import numpy as np\n",
    "import pandas as pd\n",
    "import matplotlib.pyplot as plt\n",
    "import nltk\n",
    "\n",
    "plt.style.use('ggplot')"
   ]
  },
  {
   "cell_type": "code",
   "execution_count": 9,
   "outputs": [
    {
     "data": {
      "text/plain": "   Id   ProductId          UserId                      ProfileName  \\\n0   1  B001E4KFG0  A3SGXH7AUHU8GW                       delmartian   \n1   2  B00813GRG4  A1D87F6ZCVE5NK                           dll pa   \n2   3  B000LQOCH0   ABXLMWJIXXAIN  Natalia Corres \"Natalia Corres\"   \n3   4  B000UA0QIQ  A395BORC6FGVXV                             Karl   \n4   5  B006K2ZZ7K  A1UQRSCLF8GW1T    Michael D. Bigham \"M. Wassir\"   \n\n   HelpfulnessNumerator  HelpfulnessDenominator  Score        Time  \\\n0                     1                       1      5  1303862400   \n1                     0                       0      1  1346976000   \n2                     1                       1      4  1219017600   \n3                     3                       3      2  1307923200   \n4                     0                       0      5  1350777600   \n\n                 Summary                                               Text  \n0  Good Quality Dog Food  I have bought several of the Vitality canned d...  \n1      Not as Advertised  Product arrived labeled as Jumbo Salted Peanut...  \n2  \"Delight\" says it all  This is a confection that has been around a fe...  \n3         Cough Medicine  If you are looking for the secret ingredient i...  \n4            Great taffy  Great taffy at a great price.  There was a wid...  ",
      "text/html": "<div>\n<style scoped>\n    .dataframe tbody tr th:only-of-type {\n        vertical-align: middle;\n    }\n\n    .dataframe tbody tr th {\n        vertical-align: top;\n    }\n\n    .dataframe thead th {\n        text-align: right;\n    }\n</style>\n<table border=\"1\" class=\"dataframe\">\n  <thead>\n    <tr style=\"text-align: right;\">\n      <th></th>\n      <th>Id</th>\n      <th>ProductId</th>\n      <th>UserId</th>\n      <th>ProfileName</th>\n      <th>HelpfulnessNumerator</th>\n      <th>HelpfulnessDenominator</th>\n      <th>Score</th>\n      <th>Time</th>\n      <th>Summary</th>\n      <th>Text</th>\n    </tr>\n  </thead>\n  <tbody>\n    <tr>\n      <th>0</th>\n      <td>1</td>\n      <td>B001E4KFG0</td>\n      <td>A3SGXH7AUHU8GW</td>\n      <td>delmartian</td>\n      <td>1</td>\n      <td>1</td>\n      <td>5</td>\n      <td>1303862400</td>\n      <td>Good Quality Dog Food</td>\n      <td>I have bought several of the Vitality canned d...</td>\n    </tr>\n    <tr>\n      <th>1</th>\n      <td>2</td>\n      <td>B00813GRG4</td>\n      <td>A1D87F6ZCVE5NK</td>\n      <td>dll pa</td>\n      <td>0</td>\n      <td>0</td>\n      <td>1</td>\n      <td>1346976000</td>\n      <td>Not as Advertised</td>\n      <td>Product arrived labeled as Jumbo Salted Peanut...</td>\n    </tr>\n    <tr>\n      <th>2</th>\n      <td>3</td>\n      <td>B000LQOCH0</td>\n      <td>ABXLMWJIXXAIN</td>\n      <td>Natalia Corres \"Natalia Corres\"</td>\n      <td>1</td>\n      <td>1</td>\n      <td>4</td>\n      <td>1219017600</td>\n      <td>\"Delight\" says it all</td>\n      <td>This is a confection that has been around a fe...</td>\n    </tr>\n    <tr>\n      <th>3</th>\n      <td>4</td>\n      <td>B000UA0QIQ</td>\n      <td>A395BORC6FGVXV</td>\n      <td>Karl</td>\n      <td>3</td>\n      <td>3</td>\n      <td>2</td>\n      <td>1307923200</td>\n      <td>Cough Medicine</td>\n      <td>If you are looking for the secret ingredient i...</td>\n    </tr>\n    <tr>\n      <th>4</th>\n      <td>5</td>\n      <td>B006K2ZZ7K</td>\n      <td>A1UQRSCLF8GW1T</td>\n      <td>Michael D. Bigham \"M. Wassir\"</td>\n      <td>0</td>\n      <td>0</td>\n      <td>5</td>\n      <td>1350777600</td>\n      <td>Great taffy</td>\n      <td>Great taffy at a great price.  There was a wid...</td>\n    </tr>\n  </tbody>\n</table>\n</div>"
     },
     "execution_count": 9,
     "metadata": {},
     "output_type": "execute_result"
    }
   ],
   "source": [
    "df = pd.read_csv('Data/Reviews.csv')\n",
    "df.head()"
   ],
   "metadata": {
    "collapsed": false
   }
  },
  {
   "cell_type": "code",
   "execution_count": 10,
   "outputs": [
    {
     "data": {
      "text/plain": "'I have bought several of the Vitality canned dog food products and have found them all to be of good quality. The product looks more like a stew than a processed meat and it smells better. My Labrador is finicky and she appreciates this product better than  most.'"
     },
     "execution_count": 10,
     "metadata": {},
     "output_type": "execute_result"
    }
   ],
   "source": [
    "df['Text'].values[0]"
   ],
   "metadata": {
    "collapsed": false
   }
  },
  {
   "cell_type": "code",
   "execution_count": 11,
   "outputs": [
    {
     "name": "stdout",
     "output_type": "stream",
     "text": [
      "(568454, 10)\n"
     ]
    }
   ],
   "source": [
    "print(df.shape)"
   ],
   "metadata": {
    "collapsed": false
   }
  },
  {
   "cell_type": "code",
   "execution_count": 12,
   "outputs": [
    {
     "data": {
      "text/plain": "(5000, 10)"
     },
     "execution_count": 12,
     "metadata": {},
     "output_type": "execute_result"
    }
   ],
   "source": [
    "df = df.head(5000)\n",
    "df.shape"
   ],
   "metadata": {
    "collapsed": false
   }
  },
  {
   "cell_type": "code",
   "execution_count": 13,
   "outputs": [
    {
     "data": {
      "text/plain": "<Figure size 720x360 with 1 Axes>",
      "image/png": "[encoded data removed]"
     },
     "metadata": {},
     "output_type": "display_data"
    }
   ],
   "source": [
    "## EDA\n",
    "ax = df['Score'].value_counts().sort_index() \\\n",
    "    .plot(kind='bar', title='count of reviews by stars',figsize= (10,5))\n",
    "ax.set_xlabel('review stars')\n",
    "plt.show()\n",
    "\n"
   ],
   "metadata": {
    "collapsed": false
   }
  },
  {
   "cell_type": "markdown",
   "source": [
    "Basic NLTK"
   ],
   "metadata": {
    "collapsed": false
   },
   "outputs": []
  },
  {
   "cell_type": "code",
   "execution_count": 26,
   "outputs": [
    {
     "name": "stdout",
     "output_type": "stream",
     "text": [
      "We roast these in a large cast iron pan on the grill (about 1/3 of the bag at a time).  The smell is wonderful and the roasted beans taste delicious too.  More importantly, the coffee is smooth; no bitter aftertaste.  On numerous occasions, we've had to send the roasted beans home with friends because they like it so much.\n"
     ]
    }
   ],
   "source": [
    "example = df['Text'][55]\n",
    "print(example)"
   ],
   "metadata": {
    "collapsed": false
   }
  },
  {
   "cell_type": "code",
   "execution_count": 27,
   "outputs": [
    {
     "name": "stdout",
     "output_type": "stream",
     "text": [
      "['We', 'roast', 'these', 'in', 'a', 'large', 'cast', 'iron', 'pan', 'on', 'the', 'grill', '(', 'about', '1/3', 'of', 'the', 'bag', 'at', 'a', 'time', ')', '.', 'The', 'smell', 'is', 'wonderful', 'and', 'the', 'roasted', 'beans', 'taste', 'delicious', 'too', '.', 'More', 'importantly', ',', 'the', 'coffee', 'is', 'smooth', ';', 'no', 'bitter', 'aftertaste', '.', 'On', 'numerous', 'occasions', ',', 'we', \"'ve\", 'had', 'to', 'send', 'the', 'roasted', 'beans', 'home', 'with', 'friends', 'because', 'they', 'like', 'it', 'so', 'much', '.']\n"
     ]
    }
   ],
   "source": [
    "\n",
    "tokens = nltk.word_tokenize(example)\n",
    "print(tokens)"
   ],
   "metadata": {
    "collapsed": false
   }
  },
  {
   "cell_type": "code",
   "execution_count": 28,
   "outputs": [
    {
     "name": "stdout",
     "output_type": "stream",
     "text": [
      "[('We', 'PRP'), ('roast', 'VBP'), ('these', 'DT'), ('in', 'IN'), ('a', 'DT'), ('large', 'JJ'), ('cast', 'NN'), ('iron', 'NN'), ('pan', 'NN'), ('on', 'IN'), ('the', 'DT'), ('grill', 'NN'), ('(', '('), ('about', 'IN'), ('1/3', 'CD'), ('of', 'IN'), ('the', 'DT'), ('bag', 'NN'), ('at', 'IN'), ('a', 'DT'), ('time', 'NN'), (')', ')'), ('.', '.'), ('The', 'DT'), ('smell', 'NN'), ('is', 'VBZ'), ('wonderful', 'JJ'), ('and', 'CC'), ('the', 'DT'), ('roasted', 'JJ'), ('beans', 'NNS'), ('taste', 'VBP'), ('delicious', 'JJ'), ('too', 'RB'), ('.', '.'), ('More', 'RBR'), ('importantly', 'RB'), (',', ','), ('the', 'DT'), ('coffee', 'NN'), ('is', 'VBZ'), ('smooth', 'JJ'), (';', ':'), ('no', 'DT'), ('bitter', 'JJ'), ('aftertaste', 'NN'), ('.', '.'), ('On', 'IN'), ('numerous', 'JJ'), ('occasions', 'NNS'), (',', ','), ('we', 'PRP'), (\"'ve\", 'VBP'), ('had', 'VBN'), ('to', 'TO'), ('send', 'VB'), ('the', 'DT'), ('roasted', 'JJ'), ('beans', 'NNS'), ('home', 'NN'), ('with', 'IN'), ('friends', 'NNS'), ('because', 'IN'), ('they', 'PRP'), ('like', 'VBP'), ('it', 'PRP'), ('so', 'RB'), ('much', 'RB'), ('.', '.')]\n"
     ]
    }
   ],
   "source": [
    "tagged = nltk.pos_tag(tokens)\n",
    "print(tagged)"
   ],
   "metadata": {
    "collapsed": false
   }
  },
  {
   "cell_type": "code",
   "execution_count": 30,
   "outputs": [
    {
     "name": "stdout",
     "output_type": "stream",
     "text": [
      "(S\n",
      "  We/PRP\n",
      "  roast/VBP\n",
      "  these/DT\n",
      "  in/IN\n",
      "  a/DT\n",
      "  large/JJ\n",
      "  cast/NN\n",
      "  iron/NN\n",
      "  pan/NN\n",
      "  on/IN\n",
      "  the/DT\n",
      "  grill/NN\n",
      "  (/(\n",
      "  about/IN\n",
      "  1/3/CD\n",
      "  of/IN\n",
      "  the/DT\n",
      "  bag/NN\n",
      "  at/IN\n",
      "  a/DT\n",
      "  time/NN\n",
      "  )/)\n",
      "  ./.\n",
      "  The/DT\n",
      "  smell/NN\n",
      "  is/VBZ\n",
      "  wonderful/JJ\n",
      "  and/CC\n",
      "  the/DT\n",
      "  roasted/JJ\n",
      "  beans/NNS\n",
      "  taste/VBP\n",
      "  delicious/JJ\n",
      "  too/RB\n",
      "  ./.\n",
      "  More/RBR\n",
      "  importantly/RB\n",
      "  ,/,\n",
      "  the/DT\n",
      "  coffee/NN\n",
      "  is/VBZ\n",
      "  smooth/JJ\n",
      "  ;/:\n",
      "  no/DT\n",
      "  bitter/JJ\n",
      "  aftertaste/NN\n",
      "  ./.\n",
      "  On/IN\n",
      "  numerous/JJ\n",
      "  occasions/NNS\n",
      "  ,/,\n",
      "  we/PRP\n",
      "  've/VBP\n",
      "  had/VBN\n",
      "  to/TO\n",
      "  send/VB\n",
      "  the/DT\n",
      "  roasted/JJ\n",
      "  beans/NNS\n",
      "  home/NN\n",
      "  with/IN\n",
      "  friends/NNS\n",
      "  because/IN\n",
      "  they/PRP\n",
      "  like/VBP\n",
      "  it/PRP\n",
      "  so/RB\n",
      "  much/RB\n",
      "  ./.)\n"
     ]
    }
   ],
   "source": [
    "#chunked into a sentance\n",
    "entities = nltk.chunk.ne_chunk(tagged)\n",
    "entities.pprint()"
   ],
   "metadata": {
    "collapsed": false
   }
  },
  {
   "cell_type": "markdown",
   "source": [
    "Step 1 : VADER Sentiment Scoring\n",
    "\n",
    "\"Bag of Words \" Approach :\n",
    "- Stop words are removed\n",
    "- Each work is scored and combined to a total score\n"
   ],
   "metadata": {
    "collapsed": false
   }
  },
  {
   "cell_type": "code",
   "execution_count": null,
   "outputs": [],
   "source": [],
   "metadata": {
    "collapsed": false
   }
  },
  {
   "cell_type": "code",
   "execution_count": null,
   "outputs": [],
   "source": [],
   "metadata": {
    "collapsed": false
   }
  }
 ],
 "metadata": {
  "kernelspec": {
   "display_name": "Python 3",
   "language": "python",
   "name": "python3"
  },
  "language_info": {
   "codemirror_mode": {
    "name": "ipython",
    "version": 2
   },
   "file_extension": ".py",
   "mimetype": "text/x-python",
   "name": "python",
   "nbconvert_exporter": "python",
   "pygments_lexer": "ipython2",
   "version": "2.7.6"
  }
 },
 "nbformat": 4,
 "nbformat_minor": 0
}
