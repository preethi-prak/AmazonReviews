{
 "cells": [
  {
   "cell_type": "code",
   "execution_count": 3,
   "metadata": {
    "collapsed": true
   },
   "outputs": [],
   "source": [
    "import seaborn as sns\n",
    "import numpy as np\n",
    "import pandas as pd\n",
    "import matplotlib.pyplot as plt\n",
    "import nltk\n",
    "\n",
    "plt.style.use('ggplot')"
   ]
  },
  {
   "cell_type": "code",
   "execution_count": 4,
   "outputs": [
    {
     "data": {
      "text/plain": "   Id   ProductId          UserId                      ProfileName  \\\n0   1  B001E4KFG0  A3SGXH7AUHU8GW                       delmartian   \n1   2  B00813GRG4  A1D87F6ZCVE5NK                           dll pa   \n2   3  B000LQOCH0   ABXLMWJIXXAIN  Natalia Corres \"Natalia Corres\"   \n3   4  B000UA0QIQ  A395BORC6FGVXV                             Karl   \n4   5  B006K2ZZ7K  A1UQRSCLF8GW1T    Michael D. Bigham \"M. Wassir\"   \n\n   HelpfulnessNumerator  HelpfulnessDenominator  Score        Time  \\\n0                     1                       1      5  1303862400   \n1                     0                       0      1  1346976000   \n2                     1                       1      4  1219017600   \n3                     3                       3      2  1307923200   \n4                     0                       0      5  1350777600   \n\n                 Summary                                               Text  \n0  Good Quality Dog Food  I have bought several of the Vitality canned d...  \n1      Not as Advertised  Product arrived labeled as Jumbo Salted Peanut...  \n2  \"Delight\" says it all  This is a confection that has been around a fe...  \n3         Cough Medicine  If you are looking for the secret ingredient i...  \n4            Great taffy  Great taffy at a great price.  There was a wid...  ",
      "text/html": "<div>\n<style scoped>\n    .dataframe tbody tr th:only-of-type {\n        vertical-align: middle;\n    }\n\n    .dataframe tbody tr th {\n        vertical-align: top;\n    }\n\n    .dataframe thead th {\n        text-align: right;\n    }\n</style>\n<table border=\"1\" class=\"dataframe\">\n  <thead>\n    <tr style=\"text-align: right;\">\n      <th></th>\n      <th>Id</th>\n      <th>ProductId</th>\n      <th>UserId</th>\n      <th>ProfileName</th>\n      <th>HelpfulnessNumerator</th>\n      <th>HelpfulnessDenominator</th>\n      <th>Score</th>\n      <th>Time</th>\n      <th>Summary</th>\n      <th>Text</th>\n    </tr>\n  </thead>\n  <tbody>\n    <tr>\n      <th>0</th>\n      <td>1</td>\n      <td>B001E4KFG0</td>\n      <td>A3SGXH7AUHU8GW</td>\n      <td>delmartian</td>\n      <td>1</td>\n      <td>1</td>\n      <td>5</td>\n      <td>1303862400</td>\n      <td>Good Quality Dog Food</td>\n      <td>I have bought several of the Vitality canned d...</td>\n    </tr>\n    <tr>\n      <th>1</th>\n      <td>2</td>\n      <td>B00813GRG4</td>\n      <td>A1D87F6ZCVE5NK</td>\n      <td>dll pa</td>\n      <td>0</td>\n      <td>0</td>\n      <td>1</td>\n      <td>1346976000</td>\n      <td>Not as Advertised</td>\n      <td>Product arrived labeled as Jumbo Salted Peanut...</td>\n    </tr>\n    <tr>\n      <th>2</th>\n      <td>3</td>\n      <td>B000LQOCH0</td>\n      <td>ABXLMWJIXXAIN</td>\n      <td>Natalia Corres \"Natalia Corres\"</td>\n      <td>1</td>\n      <td>1</td>\n      <td>4</td>\n      <td>1219017600</td>\n      <td>\"Delight\" says it all</td>\n      <td>This is a confection that has been around a fe...</td>\n    </tr>\n    <tr>\n      <th>3</th>\n      <td>4</td>\n      <td>B000UA0QIQ</td>\n      <td>A395BORC6FGVXV</td>\n      <td>Karl</td>\n      <td>3</td>\n      <td>3</td>\n      <td>2</td>\n      <td>1307923200</td>\n      <td>Cough Medicine</td>\n      <td>If you are looking for the secret ingredient i...</td>\n    </tr>\n    <tr>\n      <th>4</th>\n      <td>5</td>\n      <td>B006K2ZZ7K</td>\n      <td>A1UQRSCLF8GW1T</td>\n      <td>Michael D. Bigham \"M. Wassir\"</td>\n      <td>0</td>\n      <td>0</td>\n      <td>5</td>\n      <td>1350777600</td>\n      <td>Great taffy</td>\n      <td>Great taffy at a great price.  There was a wid...</td>\n    </tr>\n  </tbody>\n</table>\n</div>"
     },
     "execution_count": 4,
     "metadata": {},
     "output_type": "execute_result"
    }
   ],
   "source": [
    "df = pd.read_csv('Data/Reviews.csv')\n",
    "df.head()"
   ],
   "metadata": {
    "collapsed": false
   }
  },
  {
   "cell_type": "code",
   "execution_count": 5,
   "outputs": [
    {
     "data": {
      "text/plain": "'I have bought several of the Vitality canned dog food products and have found them all to be of good quality. The product looks more like a stew than a processed meat and it smells better. My Labrador is finicky and she appreciates this product better than  most.'"
     },
     "execution_count": 5,
     "metadata": {},
     "output_type": "execute_result"
    }
   ],
   "source": [
    "df['Text'].values[0]"
   ],
   "metadata": {
    "collapsed": false
   }
  },
  {
   "cell_type": "code",
   "execution_count": 6,
   "outputs": [
    {
     "name": "stdout",
     "output_type": "stream",
     "text": [
      "(568454, 10)\n"
     ]
    }
   ],
   "source": [
    "print(df.shape)"
   ],
   "metadata": {
    "collapsed": false
   }
  },
  {
   "cell_type": "code",
   "execution_count": 7,
   "outputs": [
    {
     "data": {
      "text/plain": "(5000, 10)"
     },
     "execution_count": 7,
     "metadata": {},
     "output_type": "execute_result"
    }
   ],
   "source": [
    "df = df.head(5000)\n",
    "df.shape"
   ],
   "metadata": {
    "collapsed": false
   }
  },
  {
   "cell_type": "code",
   "execution_count": 8,
   "outputs": [
    {
     "data": {
      "text/plain": "<Figure size 720x360 with 1 Axes>",
      "image/png": "[encoded data removed]"
     },
     "metadata": {},
     "output_type": "display_data"
    }
   ],
   "source": [
    "## EDA\n",
    "ax = df['Score'].value_counts().sort_index() \\\n",
    "    .plot(kind='bar', title='count of reviews by stars',figsize= (10,5))\n",
    "ax.set_xlabel('review stars')\n",
    "plt.show()\n",
    "\n"
   ],
   "metadata": {
    "collapsed": false
   }
  },
  {
   "cell_type": "markdown",
   "source": [
    "Basic NLTK"
   ],
   "metadata": {
    "collapsed": false
   },
   "outputs": []
  },
  {
   "cell_type": "code",
   "execution_count": 9,
   "outputs": [
    {
     "name": "stdout",
     "output_type": "stream",
     "text": [
      "We roast these in a large cast iron pan on the grill (about 1/3 of the bag at a time).  The smell is wonderful and the roasted beans taste delicious too.  More importantly, the coffee is smooth; no bitter aftertaste.  On numerous occasions, we've had to send the roasted beans home with friends because they like it so much.\n"
     ]
    }
   ],
   "source": [
    "example = df['Text'][55]\n",
    "print(example)"
   ],
   "metadata": {
    "collapsed": false
   }
  },
  {
   "cell_type": "code",
   "execution_count": 10,
   "outputs": [
    {
     "name": "stdout",
     "output_type": "stream",
     "text": [
      "['We', 'roast', 'these', 'in', 'a', 'large', 'cast', 'iron', 'pan', 'on', 'the', 'grill', '(', 'about', '1/3', 'of', 'the', 'bag', 'at', 'a', 'time', ')', '.', 'The', 'smell', 'is', 'wonderful', 'and', 'the', 'roasted', 'beans', 'taste', 'delicious', 'too', '.', 'More', 'importantly', ',', 'the', 'coffee', 'is', 'smooth', ';', 'no', 'bitter', 'aftertaste', '.', 'On', 'numerous', 'occasions', ',', 'we', \"'ve\", 'had', 'to', 'send', 'the', 'roasted', 'beans', 'home', 'with', 'friends', 'because', 'they', 'like', 'it', 'so', 'much', '.']\n"
     ]
    }
   ],
   "source": [
    "\n",
    "tokens = nltk.word_tokenize(example)\n",
    "print(tokens)"
   ],
   "metadata": {
    "collapsed": false
   }
  },
  {
   "cell_type": "code",
   "execution_count": 11,
   "outputs": [
    {
     "name": "stdout",
     "output_type": "stream",
     "text": [
      "[('We', 'PRP'), ('roast', 'VBP'), ('these', 'DT'), ('in', 'IN'), ('a', 'DT'), ('large', 'JJ'), ('cast', 'NN'), ('iron', 'NN'), ('pan', 'NN'), ('on', 'IN'), ('the', 'DT'), ('grill', 'NN'), ('(', '('), ('about', 'IN'), ('1/3', 'CD'), ('of', 'IN'), ('the', 'DT'), ('bag', 'NN'), ('at', 'IN'), ('a', 'DT'), ('time', 'NN'), (')', ')'), ('.', '.'), ('The', 'DT'), ('smell', 'NN'), ('is', 'VBZ'), ('wonderful', 'JJ'), ('and', 'CC'), ('the', 'DT'), ('roasted', 'JJ'), ('beans', 'NNS'), ('taste', 'VBP'), ('delicious', 'JJ'), ('too', 'RB'), ('.', '.'), ('More', 'RBR'), ('importantly', 'RB'), (',', ','), ('the', 'DT'), ('coffee', 'NN'), ('is', 'VBZ'), ('smooth', 'JJ'), (';', ':'), ('no', 'DT'), ('bitter', 'JJ'), ('aftertaste', 'NN'), ('.', '.'), ('On', 'IN'), ('numerous', 'JJ'), ('occasions', 'NNS'), (',', ','), ('we', 'PRP'), (\"'ve\", 'VBP'), ('had', 'VBN'), ('to', 'TO'), ('send', 'VB'), ('the', 'DT'), ('roasted', 'JJ'), ('beans', 'NNS'), ('home', 'NN'), ('with', 'IN'), ('friends', 'NNS'), ('because', 'IN'), ('they', 'PRP'), ('like', 'VBP'), ('it', 'PRP'), ('so', 'RB'), ('much', 'RB'), ('.', '.')]\n"
     ]
    }
   ],
   "source": [
    "tagged = nltk.pos_tag(tokens)\n",
    "print(tagged)"
   ],
   "metadata": {
    "collapsed": false
   }
  },
  {
   "cell_type": "code",
   "execution_count": 12,
   "outputs": [
    {
     "name": "stdout",
     "output_type": "stream",
     "text": [
      "(S\n",
      "  We/PRP\n",
      "  roast/VBP\n",
      "  these/DT\n",
      "  in/IN\n",
      "  a/DT\n",
      "  large/JJ\n",
      "  cast/NN\n",
      "  iron/NN\n",
      "  pan/NN\n",
      "  on/IN\n",
      "  the/DT\n",
      "  grill/NN\n",
      "  (/(\n",
      "  about/IN\n",
      "  1/3/CD\n",
      "  of/IN\n",
      "  the/DT\n",
      "  bag/NN\n",
      "  at/IN\n",
      "  a/DT\n",
      "  time/NN\n",
      "  )/)\n",
      "  ./.\n",
      "  The/DT\n",
      "  smell/NN\n",
      "  is/VBZ\n",
      "  wonderful/JJ\n",
      "  and/CC\n",
      "  the/DT\n",
      "  roasted/JJ\n",
      "  beans/NNS\n",
      "  taste/VBP\n",
      "  delicious/JJ\n",
      "  too/RB\n",
      "  ./.\n",
      "  More/RBR\n",
      "  importantly/RB\n",
      "  ,/,\n",
      "  the/DT\n",
      "  coffee/NN\n",
      "  is/VBZ\n",
      "  smooth/JJ\n",
      "  ;/:\n",
      "  no/DT\n",
      "  bitter/JJ\n",
      "  aftertaste/NN\n",
      "  ./.\n",
      "  On/IN\n",
      "  numerous/JJ\n",
      "  occasions/NNS\n",
      "  ,/,\n",
      "  we/PRP\n",
      "  've/VBP\n",
      "  had/VBN\n",
      "  to/TO\n",
      "  send/VB\n",
      "  the/DT\n",
      "  roasted/JJ\n",
      "  beans/NNS\n",
      "  home/NN\n",
      "  with/IN\n",
      "  friends/NNS\n",
      "  because/IN\n",
      "  they/PRP\n",
      "  like/VBP\n",
      "  it/PRP\n",
      "  so/RB\n",
      "  much/RB\n",
      "  ./.)\n"
     ]
    }
   ],
   "source": [
    "#chunked into a sentance\n",
    "entities = nltk.chunk.ne_chunk(tagged)\n",
    "entities.pprint()"
   ],
   "metadata": {
    "collapsed": false
   }
  },
  {
   "cell_type": "markdown",
   "source": [
    "Step 1 : VADER Sentiment Scoring\n",
    "\n",
    "\"Bag of Words \" Approach :\n",
    "- Stop words are removed\n",
    "- Each work is scored and combined to a total score\n"
   ],
   "metadata": {
    "collapsed": false
   }
  },
  {
   "cell_type": "code",
   "execution_count": 13,
   "outputs": [],
   "source": [
    "from nltk.sentiment import SentimentIntensityAnalyzer\n",
    "from tqdm.notebook import tqdm"
   ],
   "metadata": {
    "collapsed": false
   }
  },
  {
   "cell_type": "code",
   "execution_count": 14,
   "outputs": [],
   "source": [
    "sia = SentimentIntensityAnalyzer()\n"
   ],
   "metadata": {
    "collapsed": false
   }
  },
  {
   "cell_type": "code",
   "execution_count": 19,
   "outputs": [
    {
     "data": {
      "text/plain": "{'neg': 0.556, 'neu': 0.444, 'pos': 0.0, 'compound': -0.58}"
     },
     "execution_count": 19,
     "metadata": {},
     "output_type": "execute_result"
    }
   ],
   "source": [
    "sia.polarity_scores('I am NOT VERY happy')"
   ],
   "metadata": {
    "collapsed": false
   }
  },
  {
   "cell_type": "code",
   "execution_count": 20,
   "outputs": [
    {
     "data": {
      "text/plain": "{'neg': 0.071, 'neu': 0.708, 'pos': 0.221, 'compound': 0.8908}"
     },
     "execution_count": 20,
     "metadata": {},
     "output_type": "execute_result"
    }
   ],
   "source": [
    "sia.polarity_scores(example)"
   ],
   "metadata": {
    "collapsed": false
   }
  },
  {
   "cell_type": "code",
   "execution_count": 28,
   "outputs": [
    {
     "data": {
      "text/plain": "  0%|          | 0/5000 [00:00<?, ?it/s]",
      "application/vnd.jupyter.widget-view+json": {
       "version_major": 2,
       "version_minor": 0,
       "model_id": "66a35efdbd0f40c09b4d3c490cdb9d66"
      }
     },
     "metadata": {},
     "output_type": "display_data"
    }
   ],
   "source": [
    "#Run the polarity scores entire data set\n",
    "#tqdm -> Progress bar in python\n",
    "res = {}\n",
    "for i,r in tqdm(df.iterrows(),total=len(df)):\n",
    "    txt = r['Text']\n",
    "    id = r['Id']\n",
    "    res[id] = sia.polarity_scores(txt)\n",
    "\n",
    "\n"
   ],
   "metadata": {
    "collapsed": false
   }
  },
  {
   "cell_type": "code",
   "execution_count": 29,
   "outputs": [],
   "source": [
    "vaders = pd.DataFrame(res).T"
   ],
   "metadata": {
    "collapsed": false
   }
  },
  {
   "cell_type": "code",
   "execution_count": 30,
   "outputs": [
    {
     "data": {
      "text/plain": "        Id    neg    neu    pos  compound\n0        1  0.000  0.695  0.305    0.9441\n1        2  0.138  0.862  0.000   -0.5664\n2        3  0.091  0.754  0.155    0.8265\n3        4  0.000  1.000  0.000    0.0000\n4        5  0.000  0.552  0.448    0.9468\n...    ...    ...    ...    ...       ...\n4995  4996  0.025  0.883  0.092    0.7193\n4996  4997  0.026  0.764  0.210    0.9846\n4997  4998  0.097  0.827  0.076   -0.0554\n4998  4999  0.154  0.637  0.209    0.9078\n4999  5000  0.000  0.717  0.283    0.9923\n\n[5000 rows x 5 columns]",
      "text/html": "<div>\n<style scoped>\n    .dataframe tbody tr th:only-of-type {\n        vertical-align: middle;\n    }\n\n    .dataframe tbody tr th {\n        vertical-align: top;\n    }\n\n    .dataframe thead th {\n        text-align: right;\n    }\n</style>\n<table border=\"1\" class=\"dataframe\">\n  <thead>\n    <tr style=\"text-align: right;\">\n      <th></th>\n      <th>Id</th>\n      <th>neg</th>\n      <th>neu</th>\n      <th>pos</th>\n      <th>compound</th>\n    </tr>\n  </thead>\n  <tbody>\n    <tr>\n      <th>0</th>\n      <td>1</td>\n      <td>0.000</td>\n      <td>0.695</td>\n      <td>0.305</td>\n      <td>0.9441</td>\n    </tr>\n    <tr>\n      <th>1</th>\n      <td>2</td>\n      <td>0.138</td>\n      <td>0.862</td>\n      <td>0.000</td>\n      <td>-0.5664</td>\n    </tr>\n    <tr>\n      <th>2</th>\n      <td>3</td>\n      <td>0.091</td>\n      <td>0.754</td>\n      <td>0.155</td>\n      <td>0.8265</td>\n    </tr>\n    <tr>\n      <th>3</th>\n      <td>4</td>\n      <td>0.000</td>\n      <td>1.000</td>\n      <td>0.000</td>\n      <td>0.0000</td>\n    </tr>\n    <tr>\n      <th>4</th>\n      <td>5</td>\n      <td>0.000</td>\n      <td>0.552</td>\n      <td>0.448</td>\n      <td>0.9468</td>\n    </tr>\n    <tr>\n      <th>...</th>\n      <td>...</td>\n      <td>...</td>\n      <td>...</td>\n      <td>...</td>\n      <td>...</td>\n    </tr>\n    <tr>\n      <th>4995</th>\n      <td>4996</td>\n      <td>0.025</td>\n      <td>0.883</td>\n      <td>0.092</td>\n      <td>0.7193</td>\n    </tr>\n    <tr>\n      <th>4996</th>\n      <td>4997</td>\n      <td>0.026</td>\n      <td>0.764</td>\n      <td>0.210</td>\n      <td>0.9846</td>\n    </tr>\n    <tr>\n      <th>4997</th>\n      <td>4998</td>\n      <td>0.097</td>\n      <td>0.827</td>\n      <td>0.076</td>\n      <td>-0.0554</td>\n    </tr>\n    <tr>\n      <th>4998</th>\n      <td>4999</td>\n      <td>0.154</td>\n      <td>0.637</td>\n      <td>0.209</td>\n      <td>0.9078</td>\n    </tr>\n    <tr>\n      <th>4999</th>\n      <td>5000</td>\n      <td>0.000</td>\n      <td>0.717</td>\n      <td>0.283</td>\n      <td>0.9923</td>\n    </tr>\n  </tbody>\n</table>\n<p>5000 rows × 5 columns</p>\n</div>"
     },
     "execution_count": 30,
     "metadata": {},
     "output_type": "execute_result"
    }
   ],
   "source": [
    "vaders = vaders.reset_index().rename(columns={'index' : 'Id'})\n",
    "vaders"
   ],
   "metadata": {
    "collapsed": false
   }
  },
  {
   "cell_type": "code",
   "execution_count": 31,
   "outputs": [
    {
     "data": {
      "text/plain": "        Id    neg    neu    pos  compound   ProductId          UserId  \\\n0        1  0.000  0.695  0.305    0.9441  B001E4KFG0  A3SGXH7AUHU8GW   \n1        2  0.138  0.862  0.000   -0.5664  B00813GRG4  A1D87F6ZCVE5NK   \n2        3  0.091  0.754  0.155    0.8265  B000LQOCH0   ABXLMWJIXXAIN   \n3        4  0.000  1.000  0.000    0.0000  B000UA0QIQ  A395BORC6FGVXV   \n4        5  0.000  0.552  0.448    0.9468  B006K2ZZ7K  A1UQRSCLF8GW1T   \n...    ...    ...    ...    ...       ...         ...             ...   \n4995  4996  0.025  0.883  0.092    0.7193  B00653KJ5M   AGE64SY3HP9RV   \n4996  4997  0.026  0.764  0.210    0.9846  B00653KJ5M   A1MPEPNJ2NKWM   \n4997  4998  0.097  0.827  0.076   -0.0554  B00653KJ5M  A1T6I625FGQS20   \n4998  4999  0.154  0.637  0.209    0.9078  B00653KJ5M  A3POAWC2JPQQQP   \n4999  5000  0.000  0.717  0.283    0.9923  B00653KJ5M  A122CSYJ3YSKI0   \n\n                          ProfileName  HelpfulnessNumerator  \\\n0                          delmartian                     1   \n1                              dll pa                     0   \n2     Natalia Corres \"Natalia Corres\"                     1   \n3                                Karl                     3   \n4       Michael D. Bigham \"M. Wassir\"                     0   \n...                               ...                   ...   \n4995                               CZ                     1   \n4996             Rachel Albert Matesz                     1   \n4997                               IL                     1   \n4998                               me                     0   \n4999                          Shaimun                     0   \n\n      HelpfulnessDenominator  Score        Time  \\\n0                          1      5  1303862400   \n1                          0      1  1346976000   \n2                          1      4  1219017600   \n3                          3      2  1307923200   \n4                          0      5  1350777600   \n...                      ...    ...         ...   \n4995                       1      2  1341273600   \n4996                       1      1  1341100800   \n4997                       1      3  1336694400   \n4998                       0      4  1342137600   \n4999                       0      5  1337990400   \n\n                                                Summary  \\\n0                                 Good Quality Dog Food   \n1                                     Not as Advertised   \n2                                 \"Delight\" says it all   \n3                                        Cough Medicine   \n4                                           Great taffy   \n...                                                 ...   \n4995                 The cavemen must have been wealthy   \n4996  These cookies need work; you can make your own...   \n4997                        Okay in a pinch - not great   \n4998  they are good (except for the \"rainforest\" fla...   \n4999                               Great Healthy Snack!   \n\n                                                   Text  \n0     I have bought several of the Vitality canned d...  \n1     Product arrived labeled as Jumbo Salted Peanut...  \n2     This is a confection that has been around a fe...  \n3     If you are looking for the secret ingredient i...  \n4     Great taffy at a great price.  There was a wid...  \n...                                                 ...  \n4995  I really wanted to like these.<br /><br />Firs...  \n4996  I was not impressed with these cookies when I ...  \n4997  The cookies came sealed and seem to be high qu...  \n4998  These taste very good, but aren't like the BES...  \n4999  I love these cookies. I am on the paleo diet r...  \n\n[5000 rows x 14 columns]",
      "text/html": "<div>\n<style scoped>\n    .dataframe tbody tr th:only-of-type {\n        vertical-align: middle;\n    }\n\n    .dataframe tbody tr th {\n        vertical-align: top;\n    }\n\n    .dataframe thead th {\n        text-align: right;\n    }\n</style>\n<table border=\"1\" class=\"dataframe\">\n  <thead>\n    <tr style=\"text-align: right;\">\n      <th></th>\n      <th>Id</th>\n      <th>neg</th>\n      <th>neu</th>\n      <th>pos</th>\n      <th>compound</th>\n      <th>ProductId</th>\n      <th>UserId</th>\n      <th>ProfileName</th>\n      <th>HelpfulnessNumerator</th>\n      <th>HelpfulnessDenominator</th>\n      <th>Score</th>\n      <th>Time</th>\n      <th>Summary</th>\n      <th>Text</th>\n    </tr>\n  </thead>\n  <tbody>\n    <tr>\n      <th>0</th>\n      <td>1</td>\n      <td>0.000</td>\n      <td>0.695</td>\n      <td>0.305</td>\n      <td>0.9441</td>\n      <td>B001E4KFG0</td>\n      <td>A3SGXH7AUHU8GW</td>\n      <td>delmartian</td>\n      <td>1</td>\n      <td>1</td>\n      <td>5</td>\n      <td>1303862400</td>\n      <td>Good Quality Dog Food</td>\n      <td>I have bought several of the Vitality canned d...</td>\n    </tr>\n    <tr>\n      <th>1</th>\n      <td>2</td>\n      <td>0.138</td>\n      <td>0.862</td>\n      <td>0.000</td>\n      <td>-0.5664</td>\n      <td>B00813GRG4</td>\n      <td>A1D87F6ZCVE5NK</td>\n      <td>dll pa</td>\n      <td>0</td>\n      <td>0</td>\n      <td>1</td>\n      <td>1346976000</td>\n      <td>Not as Advertised</td>\n      <td>Product arrived labeled as Jumbo Salted Peanut...</td>\n    </tr>\n    <tr>\n      <th>2</th>\n      <td>3</td>\n      <td>0.091</td>\n      <td>0.754</td>\n      <td>0.155</td>\n      <td>0.8265</td>\n      <td>B000LQOCH0</td>\n      <td>ABXLMWJIXXAIN</td>\n      <td>Natalia Corres \"Natalia Corres\"</td>\n      <td>1</td>\n      <td>1</td>\n      <td>4</td>\n      <td>1219017600</td>\n      <td>\"Delight\" says it all</td>\n      <td>This is a confection that has been around a fe...</td>\n    </tr>\n    <tr>\n      <th>3</th>\n      <td>4</td>\n      <td>0.000</td>\n      <td>1.000</td>\n      <td>0.000</td>\n      <td>0.0000</td>\n      <td>B000UA0QIQ</td>\n      <td>A395BORC6FGVXV</td>\n      <td>Karl</td>\n      <td>3</td>\n      <td>3</td>\n      <td>2</td>\n      <td>1307923200</td>\n      <td>Cough Medicine</td>\n      <td>If you are looking for the secret ingredient i...</td>\n    </tr>\n    <tr>\n      <th>4</th>\n      <td>5</td>\n      <td>0.000</td>\n      <td>0.552</td>\n      <td>0.448</td>\n      <td>0.9468</td>\n      <td>B006K2ZZ7K</td>\n      <td>A1UQRSCLF8GW1T</td>\n      <td>Michael D. Bigham \"M. Wassir\"</td>\n      <td>0</td>\n      <td>0</td>\n      <td>5</td>\n      <td>1350777600</td>\n      <td>Great taffy</td>\n      <td>Great taffy at a great price.  There was a wid...</td>\n    </tr>\n    <tr>\n      <th>...</th>\n      <td>...</td>\n      <td>...</td>\n      <td>...</td>\n      <td>...</td>\n      <td>...</td>\n      <td>...</td>\n      <td>...</td>\n      <td>...</td>\n      <td>...</td>\n      <td>...</td>\n      <td>...</td>\n      <td>...</td>\n      <td>...</td>\n      <td>...</td>\n    </tr>\n    <tr>\n      <th>4995</th>\n      <td>4996</td>\n      <td>0.025</td>\n      <td>0.883</td>\n      <td>0.092</td>\n      <td>0.7193</td>\n      <td>B00653KJ5M</td>\n      <td>AGE64SY3HP9RV</td>\n      <td>CZ</td>\n      <td>1</td>\n      <td>1</td>\n      <td>2</td>\n      <td>1341273600</td>\n      <td>The cavemen must have been wealthy</td>\n      <td>I really wanted to like these.&lt;br /&gt;&lt;br /&gt;Firs...</td>\n    </tr>\n    <tr>\n      <th>4996</th>\n      <td>4997</td>\n      <td>0.026</td>\n      <td>0.764</td>\n      <td>0.210</td>\n      <td>0.9846</td>\n      <td>B00653KJ5M</td>\n      <td>A1MPEPNJ2NKWM</td>\n      <td>Rachel Albert Matesz</td>\n      <td>1</td>\n      <td>1</td>\n      <td>1</td>\n      <td>1341100800</td>\n      <td>These cookies need work; you can make your own...</td>\n      <td>I was not impressed with these cookies when I ...</td>\n    </tr>\n    <tr>\n      <th>4997</th>\n      <td>4998</td>\n      <td>0.097</td>\n      <td>0.827</td>\n      <td>0.076</td>\n      <td>-0.0554</td>\n      <td>B00653KJ5M</td>\n      <td>A1T6I625FGQS20</td>\n      <td>IL</td>\n      <td>1</td>\n      <td>1</td>\n      <td>3</td>\n      <td>1336694400</td>\n      <td>Okay in a pinch - not great</td>\n      <td>The cookies came sealed and seem to be high qu...</td>\n    </tr>\n    <tr>\n      <th>4998</th>\n      <td>4999</td>\n      <td>0.154</td>\n      <td>0.637</td>\n      <td>0.209</td>\n      <td>0.9078</td>\n      <td>B00653KJ5M</td>\n      <td>A3POAWC2JPQQQP</td>\n      <td>me</td>\n      <td>0</td>\n      <td>0</td>\n      <td>4</td>\n      <td>1342137600</td>\n      <td>they are good (except for the \"rainforest\" fla...</td>\n      <td>These taste very good, but aren't like the BES...</td>\n    </tr>\n    <tr>\n      <th>4999</th>\n      <td>5000</td>\n      <td>0.000</td>\n      <td>0.717</td>\n      <td>0.283</td>\n      <td>0.9923</td>\n      <td>B00653KJ5M</td>\n      <td>A122CSYJ3YSKI0</td>\n      <td>Shaimun</td>\n      <td>0</td>\n      <td>0</td>\n      <td>5</td>\n      <td>1337990400</td>\n      <td>Great Healthy Snack!</td>\n      <td>I love these cookies. I am on the paleo diet r...</td>\n    </tr>\n  </tbody>\n</table>\n<p>5000 rows × 14 columns</p>\n</div>"
     },
     "execution_count": 31,
     "metadata": {},
     "output_type": "execute_result"
    }
   ],
   "source": [
    "vaders = vaders.merge(df,how = 'left')\n",
    "#we have sentiment score and meta data for each reviews\n",
    "vaders"
   ],
   "metadata": {
    "collapsed": false
   }
  },
  {
   "cell_type": "markdown",
   "source": [
    "#Now we assume that if the score of the item the reviewer gave is 5 then its positive and 1 is negative review\n",
    "#VADER RESULTS"
   ],
   "metadata": {
    "collapsed": false
   }
  },
  {
   "cell_type": "code",
   "execution_count": 33,
   "outputs": [
    {
     "data": {
      "text/plain": "<Figure size 432x288 with 1 Axes>",
      "image/png": "[encoded data removed]"
     },
     "metadata": {},
     "output_type": "display_data"
    }
   ],
   "source": [
    "ax = sns.barplot(data = vaders, x = 'Score', y = 'compound')\n",
    "ax.set_title('Compound Score By Stars Review')\n",
    "plt.show()"
   ],
   "metadata": {
    "collapsed": false
   }
  },
  {
   "cell_type": "code",
   "execution_count": 43,
   "outputs": [
    {
     "data": {
      "text/plain": "<Figure size 864x216 with 3 Axes>",
      "image/png": "[encoded data removed]"
     },
     "metadata": {},
     "output_type": "display_data"
    }
   ],
   "source": [
    "fig, axs = plt.subplots(1,3,figsize=(12,3))\n",
    "sns.barplot(data=vaders, x = 'Score', y = 'pos', ax =axs[0])\n",
    "sns.barplot(data=vaders,x = 'Score', y = 'neu', ax=axs[1])\n",
    "sns.barplot(data=vaders,x = 'Score', y = 'neg', ax=axs[2])\n",
    "axs[0].set_title('Positive')\n",
    "axs[1].set_title('Negative')\n",
    "axs[2].set_title('Neutral')\n",
    "plt.tight_layout()\n",
    "plt.show()\n",
    "#Here scores increase as star value increases for positive"
   ],
   "metadata": {
    "collapsed": false
   }
  },
  {
   "cell_type": "code",
   "execution_count": 40,
   "outputs": [],
   "source": [],
   "metadata": {
    "collapsed": false
   }
  }
 ],
 "metadata": {
  "kernelspec": {
   "display_name": "Python 3",
   "language": "python",
   "name": "python3"
  },
  "language_info": {
   "codemirror_mode": {
    "name": "ipython",
    "version": 2
   },
   "file_extension": ".py",
   "mimetype": "text/x-python",
   "name": "python",
   "nbconvert_exporter": "python",
   "pygments_lexer": "ipython2",
   "version": "2.7.6"
  }
 },
 "nbformat": 4,
 "nbformat_minor": 0
}
